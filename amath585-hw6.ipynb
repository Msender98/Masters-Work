{
  "nbformat": 4,
  "nbformat_minor": 0,
  "metadata": {
    "colab": {
      "name": "hw6.ipynb",
      "provenance": [],
      "authorship_tag": "ABX9TyOrf0WOa9EUhcL3GNBe6OhH",
      "include_colab_link": true
    },
    "kernelspec": {
      "name": "python3",
      "display_name": "Python 3"
    },
    "widgets": {
      "application/vnd.jupyter.widget-state+json": {
        "7bae6f762c1c4179b3e262b171e9b0ad": {
          "model_module": "@jupyter-widgets/controls",
          "model_name": "VBoxModel",
          "state": {
            "_view_name": "VBoxView",
            "_dom_classes": [
              "widget-interact"
            ],
            "_model_name": "VBoxModel",
            "_view_module": "@jupyter-widgets/controls",
            "_model_module_version": "1.5.0",
            "_view_count": null,
            "_view_module_version": "1.5.0",
            "box_style": "",
            "layout": "IPY_MODEL_58910c1d4e8548729d25b1b73a3fff3e",
            "_model_module": "@jupyter-widgets/controls",
            "children": [
              "IPY_MODEL_602f1e55fca3462b9cd0e92d3d75963c",
              "IPY_MODEL_790dc7e6a14b466296db007e683981eb"
            ]
          }
        },
        "58910c1d4e8548729d25b1b73a3fff3e": {
          "model_module": "@jupyter-widgets/base",
          "model_name": "LayoutModel",
          "state": {
            "_view_name": "LayoutView",
            "grid_template_rows": null,
            "right": null,
            "justify_content": null,
            "_view_module": "@jupyter-widgets/base",
            "overflow": null,
            "_model_module_version": "1.2.0",
            "_view_count": null,
            "flex_flow": null,
            "width": null,
            "min_width": null,
            "border": null,
            "align_items": null,
            "bottom": null,
            "_model_module": "@jupyter-widgets/base",
            "top": null,
            "grid_column": null,
            "overflow_y": null,
            "overflow_x": null,
            "grid_auto_flow": null,
            "grid_area": null,
            "grid_template_columns": null,
            "flex": null,
            "_model_name": "LayoutModel",
            "justify_items": null,
            "grid_row": null,
            "max_height": null,
            "align_content": null,
            "visibility": null,
            "align_self": null,
            "height": null,
            "min_height": null,
            "padding": null,
            "grid_auto_rows": null,
            "grid_gap": null,
            "max_width": null,
            "order": null,
            "_view_module_version": "1.2.0",
            "grid_template_areas": null,
            "object_position": null,
            "object_fit": null,
            "grid_auto_columns": null,
            "margin": null,
            "display": null,
            "left": null
          }
        },
        "602f1e55fca3462b9cd0e92d3d75963c": {
          "model_module": "@jupyter-widgets/controls",
          "model_name": "IntSliderModel",
          "state": {
            "_view_name": "IntSliderView",
            "style": "IPY_MODEL_39ac118117b84e7693b5166e2fe1db2c",
            "_dom_classes": [],
            "description": "frameno",
            "step": 1,
            "_model_name": "IntSliderModel",
            "orientation": "horizontal",
            "max": 37,
            "_view_module": "@jupyter-widgets/controls",
            "_model_module_version": "1.5.0",
            "value": 33,
            "_view_count": null,
            "disabled": false,
            "_view_module_version": "1.5.0",
            "min": 0,
            "continuous_update": true,
            "readout_format": "d",
            "description_tooltip": null,
            "readout": true,
            "_model_module": "@jupyter-widgets/controls",
            "layout": "IPY_MODEL_888f111ca6174838a28fffb1333c1a8a"
          }
        },
        "790dc7e6a14b466296db007e683981eb": {
          "model_module": "@jupyter-widgets/output",
          "model_name": "OutputModel",
          "state": {
            "_view_name": "OutputView",
            "msg_id": "",
            "_dom_classes": [],
            "_model_name": "OutputModel",
            "outputs": [
              {
                "output_type": "display_data",
                "metadata": {
                  "tags": []
                },
                "image/png": "iVBORw0KGgoAAAANSUhEUgAAAsoAAAE/CAYAAABfIeV3AAAABHNCSVQICAgIfAhkiAAAAAlwSFlz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\nIiIiIhJAQVlEREREJICCsoiIiIhIgP8HsPBoxwVNTcQAAAAASUVORK5CYII=\n",
                "text/plain": "<Figure size 864x360 with 1 Axes>"
              }
            ],
            "_view_module": "@jupyter-widgets/output",
            "_model_module_version": "1.0.0",
            "_view_count": null,
            "_view_module_version": "1.0.0",
            "layout": "IPY_MODEL_d7ee0a6fdc1f4d989b499685ca575389",
            "_model_module": "@jupyter-widgets/output"
          }
        },
        "39ac118117b84e7693b5166e2fe1db2c": {
          "model_module": "@jupyter-widgets/controls",
          "model_name": "SliderStyleModel",
          "state": {
            "_view_name": "StyleView",
            "handle_color": null,
            "_model_name": "SliderStyleModel",
            "description_width": "",
            "_view_module": "@jupyter-widgets/base",
            "_model_module_version": "1.5.0",
            "_view_count": null,
            "_view_module_version": "1.2.0",
            "_model_module": "@jupyter-widgets/controls"
          }
        },
        "888f111ca6174838a28fffb1333c1a8a": {
          "model_module": "@jupyter-widgets/base",
          "model_name": "LayoutModel",
          "state": {
            "_view_name": "LayoutView",
            "grid_template_rows": null,
            "right": null,
            "justify_content": null,
            "_view_module": "@jupyter-widgets/base",
            "overflow": null,
            "_model_module_version": "1.2.0",
            "_view_count": null,
            "flex_flow": null,
            "width": null,
            "min_width": null,
            "border": null,
            "align_items": null,
            "bottom": null,
            "_model_module": "@jupyter-widgets/base",
            "top": null,
            "grid_column": null,
            "overflow_y": null,
            "overflow_x": null,
            "grid_auto_flow": null,
            "grid_area": null,
            "grid_template_columns": null,
            "flex": null,
            "_model_name": "LayoutModel",
            "justify_items": null,
            "grid_row": null,
            "max_height": null,
            "align_content": null,
            "visibility": null,
            "align_self": null,
            "height": null,
            "min_height": null,
            "padding": null,
            "grid_auto_rows": null,
            "grid_gap": null,
            "max_width": null,
            "order": null,
            "_view_module_version": "1.2.0",
            "grid_template_areas": null,
            "object_position": null,
            "object_fit": null,
            "grid_auto_columns": null,
            "margin": null,
            "display": null,
            "left": null
          }
        }
      }
    }
  },
  "cells": [
    {
      "cell_type": "markdown",
      "metadata": {
        "id": "view-in-github",
        "colab_type": "text"
      },
      "source": [
        "<a href=\"https://colab.research.google.com/github/Msender98/Masters-Work/blob/master/amath585-hw6.ipynb\" target=\"_parent\"><img src=\"https://colab.research.google.com/assets/colab-badge.svg\" alt=\"Open In Colab\"/></a>"
      ]
    },
    {
      "cell_type": "markdown",
      "metadata": {
        "id": "1H4BY8e0wfIB",
        "colab_type": "text"
      },
      "source": [
        "# AMATH 585 - HW 6\n",
        "## Michael Sender\n",
        "\n",
        "Please note that this notebook was written in [google colaboratory](https://colab.research.google.com/notebooks/welcome.ipynb) . "
      ]
    },
    {
      "cell_type": "code",
      "metadata": {
        "id": "W3RvoNNCwXCX",
        "colab_type": "code",
        "colab": {}
      },
      "source": [
        "from pylab import *"
      ],
      "execution_count": 0,
      "outputs": []
    },
    {
      "cell_type": "code",
      "metadata": {
        "id": "3if_41YR8IoS",
        "colab_type": "code",
        "colab": {}
      },
      "source": [
        "use_widgets = True\n",
        "\n",
        "if use_widgets:\n",
        "    from ipywidgets import interact\n",
        "    import ipywidgets as widgets\n",
        "\n",
        "    def animate_figs(figs):\n",
        "        show_frame = lambda frameno: display(figs[frameno])\n",
        "        interact(show_frame, frameno=widgets.IntSlider(min=0,max=len(figs)-1, value=0))\n",
        "else:\n",
        "    from jsanimate_figs import animate_figs"
      ],
      "execution_count": 0,
      "outputs": []
    },
    {
      "cell_type": "markdown",
      "metadata": {
        "id": "NvoTGGOfwklX",
        "colab_type": "text"
      },
      "source": [
        "***\n",
        "##Problem 1\n",
        "###a)\n",
        "First we setup the matrix A and corresponding f \n",
        "\n",
        "$A = \\frac{1}{h^2} \\begin{pmatrix} -2 & 1 & 0 \\\\ 1 & -2 & 1 \\\\ 0 & 1 & -2 \\end{pmatrix}$\n",
        "\n",
        "$ f= \\begin{pmatrix} 0 \\\\ 0 \\\\ -\\frac{1}{h^2} \\end{pmatrix}$\n",
        "\n",
        "Using the zero vector as an initial guess gives the following sequence for $u^{[k]}$, $r^{[k]}$, and $b^{[k]}$\n",
        "\n",
        "$u_0 = \\begin{pmatrix} 0 \\\\ 0 \\\\ 0 \\end{pmatrix}$; $u_1 = \\begin{pmatrix} 0 \\\\ 0 \\\\ \\frac{1}{2} \\end{pmatrix}$; $u_2 = \\begin{pmatrix} 0 \\\\ \\frac{1}{3} \\\\ \\frac{2}{3} \\end{pmatrix}$; $u_3 = \\begin{pmatrix} \\frac{1}{4} \\\\ \\frac{1}{2} \\\\ \\frac{3}{4} \\end{pmatrix}$   \n",
        "\n",
        "$r_0 = \\begin{pmatrix} 0 \\\\ 0 \\\\ -\\frac{1}{h^2} \\end{pmatrix}$; $r_1 = \\begin{pmatrix} 0 \\\\ -\\frac{1}{2h^2} \\\\ 0 \\end{pmatrix}$; $r_2 = \\begin{pmatrix} -\\frac{1}{3h^2} \\\\ 0 \\\\ 0 \\end{pmatrix}$; $r_3 = \\begin{pmatrix} 0 \\\\ 0 \\\\ 0 \\end{pmatrix}$   \n",
        "\n",
        "$b_0 = \\begin{pmatrix} 0 \\\\ 0 \\\\ -\\frac{1}{h^2} \\end{pmatrix}$; $p_1 = \\begin{pmatrix} 0 \\\\ -\\frac{1}{2h^2} \\\\ -\\frac{1}{4h^2} \\end{pmatrix}$; $p_2 = \\begin{pmatrix} -\\frac{1}{3h^2} \\\\ -\\frac{2}{9h^2} \\\\ -\\frac{1}{9h^2} \\end{pmatrix}$; $p_3 = \\begin{pmatrix} 0 \\\\ 0 \\\\ 0 \\end{pmatrix}$   \n",
        "\n",
        "\n",
        "\n"
      ]
    },
    {
      "cell_type": "markdown",
      "metadata": {
        "id": "cBMmR8eHwt7W",
        "colab_type": "text"
      },
      "source": [
        "***\n",
        "##Problem 2\n",
        "###a) \n",
        "Take a non-zero vector v, then $v^TAA^Tv = (A^Tv)^T(A^Tv) $ which is always positive or 0, and since A is non-singular that product is always positive. Therefore $AA^T$ is SPD. \n",
        "\n",
        "###b) \n",
        "Take diagonalized forms of $A$ and $A^T$, then rearrange and we can show that the eigenvalues of $AA^T$ are squares of those of A, therefore the 2-norms squared and the condition number is squared\n",
        "\n",
        "\n",
        "\n"
      ]
    },
    {
      "cell_type": "code",
      "metadata": {
        "id": "s9mkjvVK941-",
        "colab_type": "code",
        "colab": {}
      },
      "source": [
        ""
      ],
      "execution_count": 0,
      "outputs": []
    },
    {
      "cell_type": "markdown",
      "metadata": {
        "id": "m56iXMsfwycM",
        "colab_type": "text"
      },
      "source": [
        "***\n",
        "##Problem 3\n",
        "###a)\n",
        "Integrate once so that $\\kappa(x)u'(x) = c$, integrating again and using the boundary conditions gives $u(x) = \\int_0^x{\\frac{c}{\\kappa(t)}dt}$ Using the boundary conditions gives $c = \\frac{2\\epsilon}{1+\\epsilon}$ with:  \n",
        "$u(x) = \\frac{cx}{\\epsilon}$ when  $x<0.5$  \n",
        "$u(x) =  \\frac{c}{2\\epsilon}+c(x-\\frac{1}{2})$ when $x>0.5$\n",
        "\n",
        "###b) \n",
        "See below"
      ]
    },
    {
      "cell_type": "code",
      "metadata": {
        "id": "7Afnl1cLzuoT",
        "colab_type": "code",
        "colab": {}
      },
      "source": [
        "def matvec(v,ep):\n",
        "    \"\"\"\n",
        "    Given v of length m \n",
        "    Return b = A*v\n",
        "    \"\"\"\n",
        "    \n",
        "    m = len(v)\n",
        "    h = 1./(m+1)\n",
        "    k = ones((m)*2); k[0:m] = ep\n",
        "    # initialize vector for product:\n",
        "    b = empty(m, dtype=float)\n",
        "    \n",
        "    # set each value of b, noting that first and last rows are special:\n",
        "    for i in range(m):\n",
        "        if i>0:\n",
        "            vim = v[i-1]\n",
        "        else:\n",
        "            vim = 0.\n",
        "        if i<m-1:\n",
        "            vip = v[i+1]\n",
        "        else:\n",
        "            vip = 0.\n",
        "            \n",
        "        b[i] = (k[2*i-1]*vim - (k[2*i-1]+k[2*i+1])*v[i] + k[2*i+1]*vip) / h**2\n",
        "    \n",
        "    return b"
      ],
      "execution_count": 0,
      "outputs": []
    },
    {
      "cell_type": "code",
      "metadata": {
        "id": "5CQ1XLqlxq9B",
        "colab_type": "code",
        "colab": {}
      },
      "source": [
        "def solve_bvp_CG(f_fcn, utrue_fcn,ep, m, maxiter, kplot, verbose=False):\n",
        "    \n",
        "    h = 1./(m+1)\n",
        "    x_full = linspace(0,1,m+2)\n",
        "    x = x_full[1:m+1] # interior points\n",
        "\n",
        "    utrue_full = utrue_fcn(x_full,ep)\n",
        "    utrue = utrue_full[1:m+1]  # at interior points\n",
        "    \n",
        "    # Dirichlet boundary values from true solution:\n",
        "    #alpha = utrue_fcn([0.],ep)\n",
        "    #beta = utrue_fcn([1.],ep)\n",
        "    alpha = 0\n",
        "    beta = 1\n",
        "    f_full = f_fcn(x_full)\n",
        "\n",
        "    # right-hand side:\n",
        "    f = f_full[1:m+1]  # at interior points\n",
        "\n",
        "    # adjust for Dirichlet BCs:\n",
        "    f[0] = 0\n",
        "    f[m-1] = - beta / h**2\n",
        "   \n",
        "\n",
        "    # initial guess:\n",
        "    U0_full = linspace(alpha, beta, m+2)  # linear\n",
        "  \n",
        "    U0 = U0_full[1:m+1]  # interior points\n",
        "\n",
        "    U = U0.copy() # current iterate\n",
        "    r = f - matvec(U,ep)  # initial residual\n",
        "    p = r.copy()  # initial direction\n",
        "\n",
        "    tol = 1e-14  # stop if the residual \n",
        "\n",
        "    enorm = abs(U-utrue).max()\n",
        "    errors = [enorm]\n",
        "    figs = []  # for the list of figures we generate\n",
        "    \n",
        "    rTr_km = dot(r,r)  # r^T * r at iteration k-1\n",
        "    rnorm = sqrt(rTr_km)\n",
        "    rnorms = [rnorm]\n",
        "    for k in range(1,maxiter+1):\n",
        "        w = matvec(p,ep)   # the only matrix-vector multiply\n",
        "       \n",
        "        a = rTr_km / dot(p,w) # alpha_{k-1} in CG algorithm\n",
        "     \n",
        "        U = U + a*p\n",
        "       \n",
        "        r = r - a*w\n",
        "      \n",
        "\n",
        "        enorm = abs(U-utrue).max()\n",
        "        errors.append(enorm)\n",
        "\n",
        "        if mod(k,kplot)==0 or k==maxiter:\n",
        "            # every kplot iterations create a plot:\n",
        "            fig = figure(figsize=(12,5))\n",
        "            plot(x_full,U0_full,'r-o', label='initial guess')\n",
        "            plot(x_full,utrue_full,'k-o', label='true solution')\n",
        "            U_full = hstack([alpha,U,beta])\n",
        "            plot(x_full,U_full,'bo-', label= 'iteration k = %i' % k)\n",
        "            legend()\n",
        "            grid(True)\n",
        "            xlim(0,1)\n",
        "            ylim(0,3)\n",
        "            title('After %i iterations, norm(error) = %.2e' \\\n",
        "                  % (k, enorm))\n",
        "            figs.append(fig)\n",
        "            close(fig)\n",
        "\n",
        "        rTr_k = dot(r,r)\n",
        "        rnorm = sqrt(rTr_k)\n",
        "\n",
        "        rnorms.append(rnorm)\n",
        "        if verbose:\n",
        "            print('iteration %3i:   2-norm(r) = %.2e,   max-norm(E) = %.2e' \\\n",
        "                  % (k,rnorm,enorm))\n",
        "        \n",
        "        if rnorm < tol:\n",
        "            if verbose: print('Stopping after %i iterations' % k)\n",
        "            break\n",
        "\n",
        "        # determine next search direction:\n",
        "        b = rTr_k / rTr_km   # beta_{k-1} in CG algorithm\n",
        "       \n",
        "        rTr_km = rTr_k       # for next iteration\n",
        "        \n",
        "        p = r + b*p           # next search direction\n",
        "\n",
        "    return errors, rnorms, figs"
      ],
      "execution_count": 0,
      "outputs": []
    },
    {
      "cell_type": "code",
      "metadata": {
        "id": "bjPugihb5QxJ",
        "colab_type": "code",
        "outputId": "7dd0f52d-8336-45ea-928c-a99d8f9ee092",
        "colab": {
          "base_uri": "https://localhost:8080/",
          "height": 265
        }
      },
      "source": [
        "f_fcn = lambda x: 0*x\n",
        "def utrue_fcn(x,ep):\n",
        "    m = len(x)\n",
        "    u = zeros(m)\n",
        "    c = (2*ep)/(1+ep)\n",
        "    half = int(floor(m/2))\n",
        "    u[0:half] = c*x[0:half]/ep\n",
        "    u[half:m] = (c/(2*ep))+c*(x[half:m]-0.5)\n",
        "    return u\n",
        "\n",
        "\n",
        "errors,rnorms, figs = solve_bvp_CG(f_fcn,utrue_fcn,.1,19,40,1)\n",
        "semilogy(range(1,len(errors)+1), errors, 'b-x', label = 'error')\n",
        "semilogy(range(1,len(errors)+1), rnorms, 'r-o', label = 'rnorm')\n",
        "legend()\n",
        "grid(True)"
      ],
      "execution_count": 0,
      "outputs": [
        {
          "output_type": "display_data",
          "data": {
            "image/png": "[encoded data removed]",
            "text/plain": [
              "<Figure size 432x288 with 1 Axes>"
            ]
          },
          "metadata": {
            "tags": []
          }
        }
      ]
    },
    {
      "cell_type": "code",
      "metadata": {
        "id": "gXIxCkQl5lzs",
        "colab_type": "code",
        "outputId": "2b63af24-d368-443e-d2a3-bd2aaf5d8ee2",
        "colab": {
          "base_uri": "https://localhost:8080/",
          "height": 268
        }
      },
      "source": [
        "errors,rnorms, figs = solve_bvp_CG(f_fcn,utrue_fcn,.001,19,40,1)\n",
        "semilogy(range(1,len(errors)+1), errors, 'b-x', label = 'error')\n",
        "semilogy(range(1,len(errors)+1), rnorms, 'r-o', label = 'rnorm')\n",
        "legend()\n",
        "grid(True)"
      ],
      "execution_count": 0,
      "outputs": [
        {
          "output_type": "display_data",
          "data": {
            "image/png": "[encoded data removed]",
            "text/plain": [
              "<Figure size 432x288 with 1 Axes>"
            ]
          },
          "metadata": {
            "tags": []
          }
        }
      ]
    },
    {
      "cell_type": "code",
      "metadata": {
        "id": "FCP0rjPN8VNz",
        "colab_type": "code",
        "outputId": "00e2b20a-e3d0-415b-e0f0-c157b0404f88",
        "colab": {
          "base_uri": "https://localhost:8080/",
          "height": 368,
          "referenced_widgets": [
            "7bae6f762c1c4179b3e262b171e9b0ad",
            "58910c1d4e8548729d25b1b73a3fff3e",
            "602f1e55fca3462b9cd0e92d3d75963c",
            "790dc7e6a14b466296db007e683981eb",
            "39ac118117b84e7693b5166e2fe1db2c",
            "888f111ca6174838a28fffb1333c1a8a"
          ]
        }
      },
      "source": [
        "animate_figs(figs)"
      ],
      "execution_count": 0,
      "outputs": [
        {
          "output_type": "display_data",
          "data": {
            "application/vnd.jupyter.widget-view+json": {
              "model_id": "7bae6f762c1c4179b3e262b171e9b0ad",
              "version_minor": 0,
              "version_major": 2
            },
            "text/plain": [
              "interactive(children=(IntSlider(value=0, description='frameno', max=37), Output()), _dom_classes=('widget-inte…"
            ]
          },
          "metadata": {
            "tags": []
          }
        }
      ]
    },
    {
      "cell_type": "markdown",
      "metadata": {
        "id": "jJEtvWn2CWQt",
        "colab_type": "text"
      },
      "source": [
        "I have a bug in my code so that the calculated solutions are slightly off. For some reason it is pinning the second value in u to 0 as well as the boundary. But I think the convergent behavior is still similar, with $\\epsilon = 10^{-3}$ needing more iterations to converge and both taking over the number of m. "
      ]
    },
    {
      "cell_type": "code",
      "metadata": {
        "id": "wkz0iwN-EFAC",
        "colab_type": "code",
        "colab": {}
      },
      "source": [
        ""
      ],
      "execution_count": 0,
      "outputs": []
    },
    {
      "cell_type": "markdown",
      "metadata": {
        "id": "YuUf9taAFlxO",
        "colab_type": "text"
      },
      "source": [
        "***\n",
        "##Problem 4\n",
        "###a)\n",
        "$A = \\begin{pmatrix} -2\\epsilon & \\epsilon & 0 \\\\ \\epsilon & -(1+\\epsilon) & 1 \\\\ 0 & 1 & -2 \\end{pmatrix} $\n",
        "\n",
        "When $\\epsilon$ is small the condition number gets very large\n",
        "\n",
        "###b)\n",
        "$M = \\begin{pmatrix} 2\\epsilon & 0 & 0 \\\\ 0 & (1+\\epsilon) & 0 \\\\ 0 & 0 & 2 \\end{pmatrix} $\n",
        "\n",
        "$M^{-1}A = \\begin{pmatrix} -1 & \\frac{1}{2} & 0 \\\\ \\frac{\\epsilon}{1+\\epsilon} & -1 & \\frac{1}{1+\\epsilon} \\\\ 0 & \\frac{1}{2} & -1 \\end{pmatrix} $ \n",
        "\n",
        "$M^{-1}A$ is clearly not symmetric\n",
        "\n",
        "###c)\n",
        "$C^{-T} = C^{-1}$ since C is a diagonal matrix so $C^{-T}AC^{-1}$ is essentially multiplying every element by the corresponding diagonal element in C both row and element: \n",
        "\n",
        "$C^{-T}AC^{-1} = \\begin{pmatrix} -1 & \\frac{\\epsilon}{\\sqrt{2\\epsilon}\\sqrt{1+\\epsilon}} & 0 \\\\ \\frac{\\epsilon}{\\sqrt{2\\epsilon}\\sqrt{1+\\epsilon}} & -1 & \\frac{1}{\\sqrt{1+\\epsilon}\\sqrt{2}} \\\\ 0 & \\frac{1}{\\sqrt{1+\\epsilon}\\sqrt{2}} & -1 \\end{pmatrix} $ \n",
        "\n",
        "Which is symmetric\n",
        "\n",
        "###d)\n",
        "\n",
        "\n",
        "\n"
      ]
    },
    {
      "cell_type": "code",
      "metadata": {
        "id": "CL386Le-KV2h",
        "colab_type": "code",
        "outputId": "f4a414de-2434-4f33-c2b1-5cb337a6729d",
        "colab": {
          "base_uri": "https://localhost:8080/",
          "height": 34
        }
      },
      "source": [
        "ep = 10e-4\n",
        "A = [[-2*ep, ep, 0 ],\n",
        "     [ep, -(1+ep) ,0],\n",
        "     [0 ,1 , -2]]\n",
        "egs, egvecs = eig(A)\n",
        "egsiv, egvecs = eig(inv(A))\n",
        "cnum = max(abs(egs))*max(abs(egsiv))\n",
        "print(egs,cnum)"
      ],
      "execution_count": 0,
      "outputs": [
        {
          "output_type": "stream",
          "text": [
            "[-2.000000e+00 -1.001001e+00 -1.998999e-03] 1000.5007506246857\n"
          ],
          "name": "stdout"
        }
      ]
    },
    {
      "cell_type": "code",
      "metadata": {
        "id": "MTpZ5v8ILTzx",
        "colab_type": "code",
        "outputId": "2f42762f-992b-41da-8d6f-fab3a3faa8c0",
        "colab": {
          "base_uri": "https://localhost:8080/",
          "height": 34
        }
      },
      "source": [
        "ep = 10e-4\n",
        "M = [[2*ep, 0, 0 ],\n",
        "     [0, (1+ep) ,0],\n",
        "     [0 ,0 , 2]]\n",
        "egs, egvecs = eig(inv(M)*A)\n",
        "egsiv, egvecs = eig(inv(M)*A)\n",
        "cnum = max(abs(egs))*max(abs(egsiv))\n",
        "print(egs,cnum)"
      ],
      "execution_count": 0,
      "outputs": [
        {
          "output_type": "stream",
          "text": [
            "[-1. -1. -1.] 1.0\n"
          ],
          "name": "stdout"
        }
      ]
    },
    {
      "cell_type": "markdown",
      "metadata": {
        "id": "NvD6w5l9NmkR",
        "colab_type": "text"
      },
      "source": [
        "The condition number much improved with B"
      ]
    },
    {
      "cell_type": "markdown",
      "metadata": {
        "id": "rU-oooNtNsGg",
        "colab_type": "text"
      },
      "source": [
        "###e)\n",
        "The limit matrix is:\n",
        "$\\begin{pmatrix} -1 & \\frac{1}{2} & 0 \\\\ 0 & -1 & 1 \\\\ 0 & \\frac{1}{2} & -1 \\end{pmatrix} $ \n",
        "So the condition number approaches 1 (calculated below)"
      ]
    },
    {
      "cell_type": "code",
      "metadata": {
        "id": "phAF74WzOZuu",
        "colab_type": "code",
        "outputId": "00c29243-a282-4b7e-84f9-2d9ac6fec45f",
        "colab": {
          "base_uri": "https://localhost:8080/",
          "height": 34
        }
      },
      "source": [
        "\n",
        "B = [[-1, 0.5, 0 ],\n",
        "     [0, -1 ,1],\n",
        "     [0 ,0.5 , -1]]\n",
        "egs, egvecs = eig(inv(M)*A)\n",
        "egsiv, egvecs = eig(inv(M)*A)\n",
        "cnum = max(abs(egs))*max(abs(egsiv))\n",
        "print(egs,cnum)"
      ],
      "execution_count": 0,
      "outputs": [
        {
          "output_type": "stream",
          "text": [
            "[-1. -1. -1.] 1.0\n"
          ],
          "name": "stdout"
        }
      ]
    }
  ]
}