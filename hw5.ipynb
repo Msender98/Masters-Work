{
  "nbformat": 4,
  "nbformat_minor": 0,
  "metadata": {
    "colab": {
      "name": "hw5.ipynb",
      "provenance": [],
      "authorship_tag": "ABX9TyOVLgxpTa7Fi1Hy7G5vzLuD",
      "include_colab_link": true
    },
    "kernelspec": {
      "name": "python3",
      "display_name": "Python 3"
    }
  },
  "cells": [
    {
      "cell_type": "markdown",
      "metadata": {
        "id": "view-in-github",
        "colab_type": "text"
      },
      "source": [
        "<a href=\"https://colab.research.google.com/github/Msender98/Masters-Work/blob/master/hw5.ipynb\" target=\"_parent\"><img src=\"https://colab.research.google.com/assets/colab-badge.svg\" alt=\"Open In Colab\"/></a>"
      ]
    },
    {
      "cell_type": "markdown",
      "metadata": {
        "id": "qQmzX0oLWzzX",
        "colab_type": "text"
      },
      "source": [
        "# AMATH 585 - HW 5\n",
        "## Michael Sender\n",
        "\n",
        "Please note that this notebook was written in [google colaboratory](https://colab.research.google.com/notebooks/welcome.ipynb) . "
      ]
    },
    {
      "cell_type": "code",
      "metadata": {
        "id": "A8NqaO7-W4Xg",
        "colab_type": "code",
        "colab": {}
      },
      "source": [
        "#Google-colab only : skip this cell if working locally\n",
        "#https://colab.research.google.com/notebooks/io.ipynb#scrollTo=u22w3BFiOveA reference for connecting colab to google drive\n",
        "#from google.colab import drive\n",
        "#drive.mount('/content/drive')"
      ],
      "execution_count": 0,
      "outputs": []
    },
    {
      "cell_type": "code",
      "metadata": {
        "id": "chp1wuRSW8fi",
        "colab_type": "code",
        "colab": {}
      },
      "source": [
        "from pylab import *"
      ],
      "execution_count": 0,
      "outputs": []
    },
    {
      "cell_type": "markdown",
      "metadata": {
        "id": "rJBmxB-iW9x1",
        "colab_type": "text"
      },
      "source": [
        "***\n",
        "##Problem 1\n",
        "###a)\n",
        "First setup the jacobi iteration matrix, G. First split the matrix A into two matrices M and N such that $A=M-N$, then $G=M^{-1}N$. In a jacobi iteration M is just the main diagonal of A. \n",
        "\n",
        "M is only non-zero and has values $a_{ii}$ (from A) on the diagonals. Therefore $M^{-1}$ has values $\\frac{1}{a_{ii}}$ on the diagonals. The matrix N is equal to -A and with 0 replacing all values on the main diagonal. Since $M^{-1}$ only has values on the diagonal each element in a given row of G is equal to the product of that element in N and $\\frac{1}{a_{ii}}$\n",
        "\n",
        "$||G||_{\\infty}= \\frac{1}{a_{ii}}\\sum{-a_{ij}}$. \n",
        "\n",
        "Since $\\sum{-a_{ij}}\\leq|a_{ii}|$, $||G||_{\\infty}<1$\n",
        "\n",
        "###b)\n",
        "G has all 0s on it's main diagonal and equals $-a_{ij}/a_{ii}$ elsewhere. By the Gershgorin theorem all of the eigenvalues are in the disk $D$: \n",
        "\n",
        "$D =$ {$z$ $\\epsilon$ $C$} : $|z<r|$ \n",
        "\n",
        "Where r is equal to $||G||_{\\infty}$ (because all of the disks are centered at zero and therefore the largest $r_i$ in the Gershgorin theorem covers all other disks. \n",
        "\n",
        "Therefore, from a), r<1 and therefore the $\\rho(G)<1$\n",
        "\n",
        "###c)\n",
        "We can use the same logic in a) and b) to show that $\\rho(G)<\\frac{1}{2}$ with this stronger condition. As in a), $||G||_{\\infty}\\leq \\frac{1}{a_{ii}}\\sum{-a_{ij}}$ but since $\\sum{|a_{ij}|}\\leq\\frac{1}{2}|a_{ii}|$, $||G||_{\\infty}\\leq\\frac{1}{2}$. \n",
        "\n",
        "Since A is normal we can say $||e^k||\\leq\\rho^k||e^0||$.  And take $\\rho(G) = \\frac{1}{2}$ and $(\\frac{1}{2})^{20}<10^{-6}$ therefore in 20 iterations the error is reduced by a factor of $10^6$\n",
        "\n",
        "###d)\n",
        "\n",
        "For a non-normal jacobi iteration matrix the relationship between the error and iterations is:\n",
        "\n",
        "\\begin{equation}\n",
        "||e^k||_2\\leq\\rho^k\\kappa||e^0||_2\n",
        "\\end{equation}\n",
        "\n",
        "From earlier we can set $\\rho$ equal to $\\beta$\n",
        "\n",
        "To reduce the error by a factor of $10^6$ we need to have: \n",
        "\\begin{equation}\n",
        "\\beta^k\\kappa=10^6\n",
        "\\end{equation}\n",
        "\n",
        "With a litte algebra $k=\\frac{log(10^6)-log(\\kappa)}{log(\\beta)} $\n",
        " "
      ]
    },
    {
      "cell_type": "markdown",
      "metadata": {
        "id": "lTBjmA12DuNq",
        "colab_type": "text"
      },
      "source": [
        "***\n",
        "##Problem 2\n",
        "The diagonals of both $A_1$ and $A_2$ are the identity matrix so M in the matrix splitting is just I. \n",
        "\n",
        "Therefore, using $G=M^{-1}N$, and $M^{-1} = I$ we can say $G=N$\n",
        "\n",
        "N for both is the negatives of the non-main diagonal terms:   \n",
        "\n",
        "$G_1 = \\begin{pmatrix} 0 & \\frac{1}{2}  \\\\ \\frac{1}{2} & 0  \\end{pmatrix} $   \n",
        "$G_2 = \\begin{pmatrix} 0 & \\frac{3}{4}  \\\\ \\frac{1}{12} & 0  \\end{pmatrix} $\n",
        "\n",
        "First we find $\\rho$:\n",
        "\n",
        "For $A_1$ solving: $det(N-\\lambda I)=\\lambda^2-\\frac{1}{4}=0$ gives $\\lambda$ = $\\frac{1}{2}$. So $\\rho(G_1)=\\frac{1}{2}$\n",
        "\n",
        "For $A_2$ solving: $det(N-\\lambda I)=\\lambda^2-\\frac{1}{16}=0$ gives $\\lambda$ = $\\frac{1}{4}$ So $\\rho(G_1)=\\frac{1}{4}$\n",
        "\n",
        "For $\\beta$ we can simply directly calculate for each, for what $\\beta$ is the absolute value of the main diagonal term greater than the absolute value of the corresponding row terms:\n",
        "\n",
        "For $A_1$ solve: $\\frac{1}{2}=\\beta*1$, $\\beta=1$\n",
        "\n",
        "For $A_2$ solve: $\\frac{3}{4}=\\beta*1$ and $\\frac{1}{12}=\\beta*1$, and take the largest so $\\beta=\\frac{3}{4}$\n"
      ]
    },
    {
      "cell_type": "markdown",
      "metadata": {
        "id": "db0XDwrUIiC2",
        "colab_type": "text"
      },
      "source": [
        "***\n",
        "##Problem 3\n",
        "$A$ is singular so $Av = 0$ for some vector v and eigenvalue=0\n",
        "\n",
        "After matrix splitting: $(M-N)v=0$\n",
        "\n",
        "So $Mv = Nv$ and $v=M^{-1}Nv = Gv$\n",
        "\n",
        "Therefore G has an eigenvalue of 1 and $\\rho(G)\\geq 1$"
      ]
    },
    {
      "cell_type": "markdown",
      "metadata": {
        "id": "fpCNuXvbNKPe",
        "colab_type": "text"
      },
      "source": [
        "***\n",
        "##Problem 4\n",
        "###a)\n",
        "$A = \\frac{1}{h^2}  \\begin{pmatrix} -2 & 1 & 0 & \\cdots & 1 \\\\ 1 & -2 & 1 & \\cdots & 0 \\\\ \\ddots &\\ddots & \\ddots & \\cdots & 0 \\\\ 0 & \\cdots & 1 & -2 & 1 \\\\ 1 & \\cdots & 0 & 1 & -2 \\end{pmatrix}$\n",
        "\n",
        "Therefore M = the main diagonal $=\\frac{-2}{h^2}I$ and $N=\\frac{1}{h^2}(A+M)$\n",
        "\n",
        "$M^{-1}= -\\frac{h^2}{2}I$ so $G=M^{-1}N = -\\frac{1}{2}N$\n",
        "\n",
        "$G = \\begin{pmatrix} 0 & \\frac{1}{2} & 0 & \\cdots & \\frac{1}{2} \\\\ \\frac{1}{2} & 0 & \\frac{1}{2} & \\cdots & 0 \\\\ \\ddots &\\ddots & \\ddots & \\cdots & 0 \\\\ 0 & \\cdots & \\frac{1}{2} & 0 & \\frac{1}{2} \\\\ \\frac{1}{2} & \\cdots & 0 & \\frac{1}{2} & 0 \\end{pmatrix}$\n",
        "\n",
        "###b) \n",
        "G is of the form in (C.16) with $d_1=d_{-1}=\\frac{1}{2}$ and $d_0=0$\n",
        "\n",
        "Using (C.17): $\\lambda_p = \\frac{1}{2}e^{-2\\pi i p h} + 0 +  \\frac{1}{2}e^{2\\pi i p h}$ and corresponding eigevectors: $r_{jp}=e^{2\\pi i p j h}$\n",
        "\n",
        "###c)\n",
        "When $ph=1$ $\\lambda=1$"
      ]
    },
    {
      "cell_type": "markdown",
      "metadata": {
        "id": "RJ8t1dOvSkFf",
        "colab_type": "text"
      },
      "source": [
        "***\n",
        "##Problem 5\n",
        "###a)\n",
        "We know the solution is piecewise linear so we can so it takes the form:\n",
        "\n",
        "$ax+b$ when $0<x<.5$   \n",
        "$cx+d$ when $.5<x<1$\n",
        "\n",
        "With the boundary conditions plus knowing u is continuous at .5 and $\\kappa(x)u'(x)$ is continuous/differentiable everywhere these two equations must satisfy the following:\n",
        "\n",
        "$b=0$  \n",
        "$c+d=1$  \n",
        "$.1a=c$  \n",
        "$.5a=.5c+d$  \n",
        "\n",
        "Solving these gives:  \n",
        "$a=\\frac{20}{11}$  \n",
        "$b=0$  \n",
        "$c=\\frac{2}{11}$  \n",
        "$d=\\frac{9}{11}$\n",
        "\n",
        "###b)\n",
        "Use the update SOR: \n",
        "\n",
        "$U_{k+1} = \\frac{\\omega}{\\kappa(m-.5)+\\kappa(m+.5)}[\\kappa(m-.5)U_k(i-1)+\\kappa(m+.5)U_k(i+1)]+(1-\\omega)U_k $\n",
        "\n",
        "Modifying the coefficents in the standard poisson SOR."
      ]
    },
    {
      "cell_type": "code",
      "metadata": {
        "id": "mmdt0XzClbsM",
        "colab_type": "code",
        "colab": {}
      },
      "source": [
        "def solve_bvp(m, update_u, omega, maxiter):\n",
        "    x = linspace(0,1,m+2)\n",
        "    half = int(floor(len(x)/2))\n",
        "    utrue = ones(m+2); utrue[0:half] = (20/11)*x[0:half]; utrue[half:len(x)-1] = (2/11)*x[half:len(x)-1]+(9/11)\n",
        "    \n",
        "    alpha = utrue[0]\n",
        "    beta = utrue[len(x)-1]\n",
        "\n",
        "    h = 1./(m+1)\n",
        "  \n",
        "    \n",
        "\n",
        "    U0 = linspace(alpha, beta, m+2) # initial guess\n",
        "    U = U0.copy() # current iterate\n",
        "\n",
        "    max_error = abs(U-utrue).max()\n",
        "    errors = [max_error]\n",
        "    \n",
        "    for k in range(1,maxiter+1):\n",
        "                \n",
        "        U = update_u(U, omega)  # take one iteration\n",
        "        \n",
        "        \n",
        "        max_error = abs(U-utrue).max()\n",
        "        errors.append(max_error)\n",
        "\n",
        "       \n",
        "            \n",
        "    errors = array(errors)  # convert list to numpy array\n",
        "    return errors"
      ],
      "execution_count": 0,
      "outputs": []
    },
    {
      "cell_type": "code",
      "metadata": {
        "id": "NEDad9fccRXQ",
        "colab_type": "code",
        "colab": {}
      },
      "source": [
        "def update_u_SOR(U, omega):\n",
        "    \"\"\"\n",
        "    Input: Current iterate U^[k-1]\n",
        "    Output: Next iterate U^[k]\n",
        "    \"\"\"\n",
        "    m = len(U) - 2\n",
        "    k = ones((m+2)*2); k[0:m+2] = .1\n",
        "    for i in range(1,m+1):\n",
        "        U[i] = 1/(k[2*i-1]+k[2*i+1])*(k[2*i-1]*U[i-1] + k[2*i+1]*U[i+1])*omega \\\n",
        "               + (1-omega)*U[i]\n",
        "    return U"
      ],
      "execution_count": 0,
      "outputs": []
    },
    {
      "cell_type": "code",
      "metadata": {
        "id": "9yLaC-L9LGOg",
        "colab_type": "code",
        "colab": {}
      },
      "source": [
        "omega_a = .7\n",
        "maxiter = 1000\n",
        "m=19\n",
        "x = linspace(0,1,m+2)\n",
        "half = int(floor(len(x)/2))\n",
        "utrue_fcn = ones(m+2); utrue_fcn[0:half] = (20/11)*x[0:half]; utrue_fcn[half:len(x)-1] = (2/11)*x[half:len(x)-1]+(9/11)\n",
        "\n"
      ],
      "execution_count": 0,
      "outputs": []
    },
    {
      "cell_type": "code",
      "metadata": {
        "id": "W5sCeXarJlte",
        "colab_type": "code",
        "colab": {}
      },
      "source": [
        "error_a = solve_bvp(m, update_u_SOR, omega_a,maxiter)\n",
        "error_b = solve_bvp(m, update_u_SOR, 1,maxiter)\n",
        "error_c = solve_bvp(m, update_u_SOR, 1.7,maxiter)"
      ],
      "execution_count": 0,
      "outputs": []
    },
    {
      "cell_type": "code",
      "metadata": {
        "id": "34wDviJIMWbZ",
        "colab_type": "code",
        "outputId": "fdd28477-776e-4708-e92d-08e945ed08ac",
        "colab": {
          "base_uri": "https://localhost:8080/",
          "height": 265
        }
      },
      "source": [
        "semilogy(error_a, 'r', label='omega = 0.7')\n",
        "semilogy(error_b, 'b', label='omega = 1')\n",
        "semilogy(error_c, 'g', label='omega = 1.7')\n",
        "legend();"
      ],
      "execution_count": 0,
      "outputs": [
        {
          "output_type": "display_data",
          "data": {
            "image/png": "[encoded data removed]",
            "text/plain": [
              "<Figure size 432x288 with 1 Axes>"
            ]
          },
          "metadata": {
            "tags": []
          }
        }
      ]
    },
    {
      "cell_type": "markdown",
      "metadata": {
        "id": "vXb-fMRNQcVZ",
        "colab_type": "text"
      },
      "source": [
        "The above plot measures the error of the SOR method with difference values of omega. The method always converges exponentially but much faster with the optimal omega = 1.7. When omega=0.7 it converges even worse than omega =1 (GS). "
      ]
    },
    {
      "cell_type": "code",
      "metadata": {
        "id": "52IEl0csEElr",
        "colab_type": "code",
        "colab": {}
      },
      "source": [
        "def convergence_rate(k_vals, errors):\n",
        "    n = len(k_vals)\n",
        "    assert len(errors) == n, 'k_vals and errors must have the same length'\n",
        "    print('Estimating rate based on %i values' % n)\n",
        "    B = vstack((ones(n),k_vals)).T\n",
        "    logE = log(errors)\n",
        "    \n",
        "    # solve least square problem:\n",
        "    c, residuals, rank, s = lstsq(B,logE,rcond=None)\n",
        "    \n",
        "    logC = c[0]\n",
        "    logrho = c[1]\n",
        "    C = exp(logC)\n",
        "    rho = exp(logrho)\n",
        "    print('Convergence approximately like  E(k) = %.3f * rho**k   with rho = %.8f' % (C,rho))"
      ],
      "execution_count": 0,
      "outputs": []
    },
    {
      "cell_type": "code",
      "metadata": {
        "id": "rMEkggojPc_k",
        "colab_type": "code",
        "outputId": "f64798cf-345c-492b-ee80-6d1a3664aeca",
        "colab": {
          "base_uri": "https://localhost:8080/",
          "height": 51
        }
      },
      "source": [
        "k_vals = arange(50, 100, dtype=int)\n",
        "rho_a = convergence_rate(k_vals, error_a[k_vals])\n"
      ],
      "execution_count": 0,
      "outputs": [
        {
          "output_type": "stream",
          "text": [
            "Estimating rate based on 50 values\n",
            "Convergence approximately like  E(k) = 0.333 * rho**k   with rho = 0.98679697\n"
          ],
          "name": "stdout"
        }
      ]
    },
    {
      "cell_type": "code",
      "metadata": {
        "id": "n8nBj2-rPvTE",
        "colab_type": "code",
        "outputId": "a3fd586b-160e-4a44-c5d0-54feb59f6d3b",
        "colab": {
          "base_uri": "https://localhost:8080/",
          "height": 51
        }
      },
      "source": [
        "k_vals = arange(50, 100, dtype=int)\n",
        "rho_a = convergence_rate(k_vals, error_b[k_vals])\n"
      ],
      "execution_count": 0,
      "outputs": [
        {
          "output_type": "stream",
          "text": [
            "Estimating rate based on 50 values\n",
            "Convergence approximately like  E(k) = 0.334 * rho**k   with rho = 0.97552822\n"
          ],
          "name": "stdout"
        }
      ]
    },
    {
      "cell_type": "code",
      "metadata": {
        "id": "e1s8tPnGPv0i",
        "colab_type": "code",
        "outputId": "570e2b66-810d-49b4-c326-091b8345f42f",
        "colab": {
          "base_uri": "https://localhost:8080/",
          "height": 51
        }
      },
      "source": [
        "k_vals = arange(50, 100, dtype=int)\n",
        "rho_a = convergence_rate(k_vals, error_c[k_vals])\n"
      ],
      "execution_count": 0,
      "outputs": [
        {
          "output_type": "stream",
          "text": [
            "Estimating rate based on 50 values\n",
            "Convergence approximately like  E(k) = 0.622 * rho**k   with rho = 0.82619976\n"
          ],
          "name": "stdout"
        }
      ]
    }
  ]
}