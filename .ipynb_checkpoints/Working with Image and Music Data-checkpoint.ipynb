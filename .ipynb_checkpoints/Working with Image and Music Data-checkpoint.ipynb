{
 "cells": [
  {
   "cell_type": "markdown",
   "metadata": {},
   "source": [
    "# Supervised Learning and Image Compression using SVD\n",
    "\n",
    "This notebook was completed as a part of my the Computational Methods for Data Analysis class at UW.\n",
    "\n",
    "The purpose of this notebook is to better be able to work with image and music data. One algorithm, Singular Value Decomposition, was used on both to make the data smaller and easier to work with.  \n"
   ]
  },
  {
   "cell_type": "markdown",
   "metadata": {},
   "source": [
    "## Theoretical Background: \n",
    "### Principal Component Analysis and Singular Value Decomposition\n",
    "\n",
    "Both analyses start with a singular value decomposition (SVD) of the data matrix.  SVD is similar to an eigendecomposition of a matrix but can be performed on any real or complex matrix. \n",
    "\n",
    "<center>$A = U\\Sigma V'$ Equation 1</center>  \n",
    "  \n",
    "Equation 1 shows the general form of an SVD of any sized real or complex matrix A.  A is broken down into two unitary matrices, U and V*, and a diagonal matrix Σ, consisting of the square roots of the eigenvalues of AAt. Σ’s diagonals are the singular values of the matrix A. U represents the principal components of A and V corresponds to the weights of each principal component on the data in A.  \n",
    "\n",
    "In python this is easy to implement, using the svd function in numpy's linalg library:"
   ]
  },
  {
   "cell_type": "code",
   "execution_count": 2,
   "metadata": {},
   "outputs": [],
   "source": [
    "from numpy.linalg import svd"
   ]
  },
  {
   "cell_type": "markdown",
   "metadata": {},
   "source": [
    "### Gabor Filtering\n",
    "\n",
    "All of the music data were first converted into spectrograms using gabor filtering. Gabor filtering is a modified discrete fourier transform, which allows for the ability to study a signal’s frequencies and when they appear in that signal. \n",
    "\n",
    "One issue with the fourier transform is that there is no time component, i.e. there is no information of when the frequencies appear in the signal.  To get around this gabor filtering performs a series of fourier transforms on different time slices of a signal. A filter slices the signal into a specific time window and performs the fourier transform on that filtered signal, only producing the frequencies appearing in that slice of time.\n"
   ]
  },
  {
   "cell_type": "markdown",
   "metadata": {},
   "source": [
    "### Machine Learning\n",
    "\n",
    "Two machine learning techniques were used to predict the genre or band of songs.  In both techniques a training set is used to train the algorithm and then tested on a set of test data.  The training data consists of data and labels of the data. They are both examples of supervised machine learning algorithms.\n",
    "\n",
    "#### Naive Bayes\n",
    "The first algorithm used is a Naive Bayes classifier. The naive bayes classifier calculates the probability a new datapoint is in a cluster, based on the training set (priors).  It accounts for different sizes of training data well. \n",
    "\n",
    "#### Linear Discriminant Analysis\n",
    "The second algorithm used was linear discriminant analysis (LDA).  LDA looks for an optimal linear cut between known clusters of data. It then can predict which cluster new data belongs to by seeing which side of the linear cuts it falls on. "
   ]
  },
  {
   "cell_type": "code",
   "execution_count": null,
   "metadata": {},
   "outputs": [],
   "source": []
  }
 ],
 "metadata": {
  "kernelspec": {
   "display_name": "Python 3",
   "language": "python",
   "name": "python3"
  },
  "language_info": {
   "codemirror_mode": {
    "name": "ipython",
    "version": 3
   },
   "file_extension": ".py",
   "mimetype": "text/x-python",
   "name": "python",
   "nbconvert_exporter": "python",
   "pygments_lexer": "ipython3",
   "version": "3.8.2"
  }
 },
 "nbformat": 4,
 "nbformat_minor": 4
}
