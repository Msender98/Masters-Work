{
  "nbformat": 4,
  "nbformat_minor": 0,
  "metadata": {
    "colab": {
      "name": "final.ipynb",
      "provenance": [],
      "collapsed_sections": [],
      "authorship_tag": "ABX9TyMtj8HdBbkyeaKV6QwDCDdJ",
      "include_colab_link": true
    },
    "kernelspec": {
      "name": "python3",
      "display_name": "Python 3"
    },
    "widgets": {
      "application/vnd.jupyter.widget-state+json": {
        "a48c8320763d4fd8b4ff3727710a2bd7": {
          "model_module": "@jupyter-widgets/controls",
          "model_name": "VBoxModel",
          "state": {
            "_view_name": "VBoxView",
            "_dom_classes": [
              "widget-interact"
            ],
            "_model_name": "VBoxModel",
            "_view_module": "@jupyter-widgets/controls",
            "_model_module_version": "1.5.0",
            "_view_count": null,
            "_view_module_version": "1.5.0",
            "box_style": "",
            "layout": "IPY_MODEL_1e28358c6a36401f814009d5bf1c3c2e",
            "_model_module": "@jupyter-widgets/controls",
            "children": [
              "IPY_MODEL_3c64effbcd6b4760acd4034ef73fb0b4",
              "IPY_MODEL_70e5891c8a634b779dd7d111edda1bea"
            ]
          }
        },
        "1e28358c6a36401f814009d5bf1c3c2e": {
          "model_module": "@jupyter-widgets/base",
          "model_name": "LayoutModel",
          "state": {
            "_view_name": "LayoutView",
            "grid_template_rows": null,
            "right": null,
            "justify_content": null,
            "_view_module": "@jupyter-widgets/base",
            "overflow": null,
            "_model_module_version": "1.2.0",
            "_view_count": null,
            "flex_flow": null,
            "width": null,
            "min_width": null,
            "border": null,
            "align_items": null,
            "bottom": null,
            "_model_module": "@jupyter-widgets/base",
            "top": null,
            "grid_column": null,
            "overflow_y": null,
            "overflow_x": null,
            "grid_auto_flow": null,
            "grid_area": null,
            "grid_template_columns": null,
            "flex": null,
            "_model_name": "LayoutModel",
            "justify_items": null,
            "grid_row": null,
            "max_height": null,
            "align_content": null,
            "visibility": null,
            "align_self": null,
            "height": null,
            "min_height": null,
            "padding": null,
            "grid_auto_rows": null,
            "grid_gap": null,
            "max_width": null,
            "order": null,
            "_view_module_version": "1.2.0",
            "grid_template_areas": null,
            "object_position": null,
            "object_fit": null,
            "grid_auto_columns": null,
            "margin": null,
            "display": null,
            "left": null
          }
        },
        "3c64effbcd6b4760acd4034ef73fb0b4": {
          "model_module": "@jupyter-widgets/controls",
          "model_name": "IntSliderModel",
          "state": {
            "_view_name": "IntSliderView",
            "style": "IPY_MODEL_b8111f1aa6dd427ca07fd245ecade3fa",
            "_dom_classes": [],
            "description": "frameno",
            "step": 1,
            "_model_name": "IntSliderModel",
            "orientation": "horizontal",
            "max": 49,
            "_view_module": "@jupyter-widgets/controls",
            "_model_module_version": "1.5.0",
            "value": 19,
            "_view_count": null,
            "disabled": false,
            "_view_module_version": "1.5.0",
            "min": 0,
            "continuous_update": true,
            "readout_format": "d",
            "description_tooltip": null,
            "readout": true,
            "_model_module": "@jupyter-widgets/controls",
            "layout": "IPY_MODEL_494f3b7918aa43e0b1ba7a13bc3ad09a"
          }
        },
        "70e5891c8a634b779dd7d111edda1bea": {
          "model_module": "@jupyter-widgets/output",
          "model_name": "OutputModel",
          "state": {
            "_view_name": "OutputView",
            "msg_id": "",
            "_dom_classes": [],
            "_model_name": "OutputModel",
            "outputs": [
              {
                "output_type": "display_data",
                "metadata": {
                  "tags": []
                },
                "image/png": "iVBORw0KGgoAAAANSUhEUgAAAsoAAAE/CAYAAABfIeV3AAAABHNCSVQICAgIfAhkiAAAAAlwSFlz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\nAABJRU5ErkJggg==\n",
                "text/plain": "<Figure size 864x360 with 1 Axes>"
              }
            ],
            "_view_module": "@jupyter-widgets/output",
            "_model_module_version": "1.0.0",
            "_view_count": null,
            "_view_module_version": "1.0.0",
            "layout": "IPY_MODEL_cb52fd5b895f40d7b1f5b899a03a84d2",
            "_model_module": "@jupyter-widgets/output"
          }
        },
        "b8111f1aa6dd427ca07fd245ecade3fa": {
          "model_module": "@jupyter-widgets/controls",
          "model_name": "SliderStyleModel",
          "state": {
            "_view_name": "StyleView",
            "handle_color": null,
            "_model_name": "SliderStyleModel",
            "description_width": "",
            "_view_module": "@jupyter-widgets/base",
            "_model_module_version": "1.5.0",
            "_view_count": null,
            "_view_module_version": "1.2.0",
            "_model_module": "@jupyter-widgets/controls"
          }
        },
        "494f3b7918aa43e0b1ba7a13bc3ad09a": {
          "model_module": "@jupyter-widgets/base",
          "model_name": "LayoutModel",
          "state": {
            "_view_name": "LayoutView",
            "grid_template_rows": null,
            "right": null,
            "justify_content": null,
            "_view_module": "@jupyter-widgets/base",
            "overflow": null,
            "_model_module_version": "1.2.0",
            "_view_count": null,
            "flex_flow": null,
            "width": null,
            "min_width": null,
            "border": null,
            "align_items": null,
            "bottom": null,
            "_model_module": "@jupyter-widgets/base",
            "top": null,
            "grid_column": null,
            "overflow_y": null,
            "overflow_x": null,
            "grid_auto_flow": null,
            "grid_area": null,
            "grid_template_columns": null,
            "flex": null,
            "_model_name": "LayoutModel",
            "justify_items": null,
            "grid_row": null,
            "max_height": null,
            "align_content": null,
            "visibility": null,
            "align_self": null,
            "height": null,
            "min_height": null,
            "padding": null,
            "grid_auto_rows": null,
            "grid_gap": null,
            "max_width": null,
            "order": null,
            "_view_module_version": "1.2.0",
            "grid_template_areas": null,
            "object_position": null,
            "object_fit": null,
            "grid_auto_columns": null,
            "margin": null,
            "display": null,
            "left": null
          }
        }
      }
    }
  },
  "cells": [
    {
      "cell_type": "markdown",
      "metadata": {
        "id": "view-in-github",
        "colab_type": "text"
      },
      "source": [
        "<a href=\"https://colab.research.google.com/github/Msender98/Masters-Work/blob/master/amath585-final.ipynb\" target=\"_parent\"><img src=\"https://colab.research.google.com/assets/colab-badge.svg\" alt=\"Open In Colab\"/></a>"
      ]
    },
    {
      "cell_type": "markdown",
      "metadata": {
        "id": "sUKPP52v9lHl",
        "colab_type": "text"
      },
      "source": [
        "# AMATH 585 - Final\n",
        "## Michael Sender\n",
        "\n",
        "Please note that this notebook was written in [google colaboratory](https://colab.research.google.com/notebooks/welcome.ipynb) . "
      ]
    },
    {
      "cell_type": "code",
      "metadata": {
        "id": "MNrpFmt9Sg1D",
        "colab_type": "code",
        "colab": {}
      },
      "source": [
        "from pylab import *"
      ],
      "execution_count": 0,
      "outputs": []
    },
    {
      "cell_type": "markdown",
      "metadata": {
        "id": "vN-pesVyUxF5",
        "colab_type": "text"
      },
      "source": [
        "###Problem 1\n",
        "##a)\n",
        "First we discretize the ODE using second order accurate centered approximations of u', u'' and u''':\n",
        "\n",
        "$u'(x_n) = \\frac{u(x_{n+1})-u(x_{n-1})}{2h} $  \n",
        "$u''(x_n) = \\frac{u(x_{n+1})-2u(x_n)+u(x_{n-1})}{h^2} $  \n",
        "$u''''(x_n) = \\frac{u(x_{n+2})-4u(x_{n+1})+6u(x_n)-4u(x_{n-1})+u(x_{n-2})}{h^4} $\n",
        "\n",
        "Plugging these into the ODE results in the following equation: \n",
        "\n",
        "$a\\frac{u(x_{n+2})-4u(x_{n+1})+6u(x_n)-4u(x_{n-1})+u(x_{n-2})}{h^4}-b\\frac{u(x_{n+1}^4+u(x_{n-1})^4-4u(x_{n})u(x_{n+1})^3+4u(x_{n})^2u(x_{n+1})^2+4u(x_n)u(x_{n-1})u(x_{n+1})^2-2u(x_{n+1})^2u(x_{n-2})^2-8u(x_{n})^2u(x_{n+1})u(x_{n-1})+4u(x_n)u(x_{n-1})^2u(x_{n+1})+4u(x_n)^2u(x_{n-1})^2-4u(x_n)u(x_{n-1})^3}{2h^6}-f(x_n) = 0$\n",
        "\n",
        "The system of m equations is the above equation for the interior $m-4$ equations. At point $x_1$ and $x_{m}$ use a 1-sided approximation of u':\n",
        "\n",
        "$4u(x_{1})−u(x_{2})=2hα_1+3α_0$\n",
        "\n",
        "$-u(x_{m-1})+4u(x_{m})=2h\\beta_0+3\\beta_1$\n",
        "\n",
        "And at points $x_2$ and $x_{m-1}$ replace $u(x_0)$ and $u(x_{m+1})$ with $\\alpha_0$ and $\\beta_0$, respectively, in the above equation used for the other $m-4$ equations: \n",
        "(n=0):\n",
        "$a\\frac{u(x_{n+2})-4u(x_{n+1})+6u(x_n)-4u(x_{n-1})+\\alpha_0}{h^4}-b\\frac{u(x_{n+1}^4+u(x_{n-1})^4-4u(x_{n})u(x_{n+1})^3+4u(x_{n})^2u(x_{n+1})^2+4u(x_n)u(x_{n-1})u(x_{n+1})^2-2u(x_{n+1})^2u(x_{n-2})^2-8u(x_{n})^2u(x_{n+1})u(x_{n-1})+4u(x_n)u(x_{n-1})^2u(x_{n+1})+4u(x_n)^2u(x_{n-1})^2-4u(x_n)u(x_{n-1})^3}{2h^6}-f(x_n) = 0$    \n",
        "(n=m-1):  \n",
        "$a\\frac{\\beta_0-4u(x_{n+1})+6u(x_n)-4u(x_{n-1})+\\alpha}{h^4}-b\\frac{u(x_{n+1}^4+u(x_{n-1})^4-4u(x_{n})u(x_{n+1})^3+4u(x_{n})^2u(x_{n+1})^2+4u(x_n)u(x_{n-1})u(x_{n+1})^2-2u(x_{n+1})^2u(x_{n-2})^2-8u(x_{n})^2u(x_{n+1})u(x_{n-1})+4u(x_n)u(x_{n-1})^2u(x_{n+1})+4u(x_n)^2u(x_{n-1})^2-4u(x_n)u(x_{n-1})^3}{2h^6}-f(x_n) = 0$\n",
        "\n",
        "##b) \n",
        "The Jacobian matrix from a) has diagonal elements:   \n",
        "$J_{11}=4$  \n",
        "$J_{33}$ through $J_{m-2,m-2}$ $ = a\\frac{6}{h^4}-b\\frac{-4u(x_{n+1})^3+8u(x_n)u(x_{n+1})^2+4u(x_{n-1})u(x_{n+1})^2-16u(x_{n})u(x_{n+1})u(x_{n-1})+4u(x_{n-1})^2u(x_{n+1})+8u(x_n)u(x_{n-1})^2-4u(x_{n-1})^3}{2h^6}$  \n",
        "$J_{mm} = 4$\n",
        "\n",
        "As in a) the second and second to last equations are the same as the interior but replace $u(x_0)$ and $u(x_{m+1})$ with $\\alpha_0$ and $\\beta_0$, respectively.\n"
      ]
    },
    {
      "cell_type": "markdown",
      "metadata": {
        "id": "wWUJ2XV9nx9E",
        "colab_type": "text"
      },
      "source": [
        "###Problem 2\n",
        "##a) \n",
        "There is only one eigenvector therefore the level sets are parellel lines (parallel to the eigenvector). \n",
        "\n",
        "##b)\n",
        "The initial guess will fall along one of the parallel lines and will therefore lead to one of the infinite solutions in one iteration (it will move along that line to the point u* which is the solution on that line) There are infinite solutions which form an orthogonal line to the level sets.  "
      ]
    },
    {
      "cell_type": "markdown",
      "metadata": {
        "id": "U3mj3vZXn0DN",
        "colab_type": "text"
      },
      "source": [
        "###Problem 3\n",
        "##a)\n",
        "Starting at $u_0 =\\alpha$, then solving for $u_1 = hf(x_1)+\\alpha$, and $u_2 = hf(x_2) + u_1 = hf(x_2) + hf(x_1)+\\alpha$ and generalizing:  \n",
        "  \n",
        "$u_n = \\alpha + h\\sum_{i=1}^{i=n}{f(x_i)} $ which is the reimann sum approximation \n",
        "\n",
        "##b) \n",
        "It is easy to see after looking at the iteration matrix G. First split A into $A = D-L-U$, set $M = D-L$ and $N = U$ to setup the guass-seidel iteration matirx $G = M^{-1}N$.  In this case $N = 0$ so $G=0$ and the error after one iteration equals 0 (using $e^{[k]} = G^ke^{[0]}$)\n",
        "\n",
        "The one iteration is just $M^{-1}f$ and is not a function of the initial guess. And is essentially doing the rieman sum on the first iteration. \n",
        "##c)\n",
        "In this case A becomes:  \n",
        "$A = \\frac{1}{h}\\begin{pmatrix} 1 & -1 & 0 & \\dots \\\\ 0 & 1 & -1 &\\dots \\\\ \\ddots & \\ddots & \\ddots & \\ddots \\\\ \\dots & 0 & 0 & 1 \\end{pmatrix}$   \n",
        "  \n",
        "So the splitting matrices become $M = \\frac{1}{h}I$ and $N = -U$:  \n",
        "$N = \\frac{1}{h}\\begin{pmatrix} 0 & 1 & 0 & \\dots \\\\ 0 & 0 & 1 &\\dots \\\\ \\ddots & \\ddots & \\ddots & \\ddots \\\\ \\dots & 0 & 0 & 1 \\\\ \\dots & 0 & 0 & 0 \\end{pmatrix}$ \n",
        "\n",
        "$G = M^{-1}N$, which in this case $M^{-1}$ acts as the constant h so: \n",
        "\n",
        "$G = \\begin{pmatrix} 0 & 1 & 0 & \\dots \\\\ 0 & 0 & 1 &\\dots \\\\ \\ddots & \\ddots & \\ddots & \\ddots \\\\ \\dots & 0 & 0 & 1 \\\\ \\dots & 0 & 0 & 0 \\end{pmatrix}$ \n",
        "\n",
        "The eigenvalues are all 0 as before (non-symmetric tridiagonal Toeplitz matrix with $d_{-1} =0, d_0=0, d_1=1 $, according to C.7 the eigenvalues are equal to $d_0=0$ (confirmed with some code below)\n",
        "\n",
        "Each exponential of G shifts the diagonal once to the right. So: \n",
        "\n",
        "$G^2 = \\begin{pmatrix} 0 & 0 & 1 & 0 & \\dots \\\\ 0 & 0 & 0 & 1 & \\dots \\\\ \\ddots & \\ddots & \\ddots & \\ddots \\\\ \\dots & 0 & 0 & 0 & 1 \\\\ \\dots & 0 & 0 & 0 & 0 &  \\\\ \\dots & 0 & 0 & 0 & 0 \\end{pmatrix}$ \n",
        "\n",
        "$G^3 = \\begin{pmatrix} 0 & 0 & 0 & 1 & 0 & \\dots \\\\ 0 & 0 & 0 & 0 & 1 & \\dots \\\\ \\ddots & \\ddots & \\ddots & \\ddots \\end{pmatrix}$ \n",
        "\n",
        "etc. \n",
        "\n",
        "\n"
      ]
    },
    {
      "cell_type": "code",
      "metadata": {
        "id": "CZJjx5RYGbyM",
        "colab_type": "code",
        "outputId": "0e87faa5-e11a-4d46-fd70-da6817dc1f70",
        "colab": {
          "base_uri": "https://localhost:8080/",
          "height": 34
        }
      },
      "source": [
        "G  = [[0,1,0,0,0,0],\n",
        "      [0,0,1,0,0,0],\n",
        "      [0,0,0,1,0,0],\n",
        "      [0,0,0,0,1,0],\n",
        "      [0,0,0,0,0,1],\n",
        "      [0,0,0,0,0,0]]\n",
        "eigs, eigvecs = eig(G)\n",
        "print(eigs)"
      ],
      "execution_count": 0,
      "outputs": [
        {
          "output_type": "stream",
          "text": [
            "[0. 0. 0. 0. 0. 0.]\n"
          ],
          "name": "stdout"
        }
      ]
    },
    {
      "cell_type": "markdown",
      "metadata": {
        "id": "9hto0ezCGgM9",
        "colab_type": "text"
      },
      "source": [
        "##d) \n",
        "This backwayds GS iterative method converges in m steps (tested below). This makes sense because $G^{[k]}$ equals zero after m steps (when the diagonal moves all the way to the right)\n",
        "\n"
      ]
    },
    {
      "cell_type": "code",
      "metadata": {
        "id": "cvU__fRqB3U9",
        "colab_type": "code",
        "colab": {}
      },
      "source": [
        "use_widgets = True\n",
        "\n",
        "if use_widgets:\n",
        "    from ipywidgets import interact\n",
        "    import ipywidgets as widgets\n",
        "\n",
        "    def animate_figs(figs):\n",
        "        show_frame = lambda frameno: display(figs[frameno])\n",
        "        interact(show_frame, frameno=widgets.IntSlider(min=0,max=len(figs)-1, value=0))\n",
        "else:\n",
        "    from jsanimate_figs import animate_figs"
      ],
      "execution_count": 0,
      "outputs": []
    },
    {
      "cell_type": "code",
      "metadata": {
        "id": "JW2mTlvj--nr",
        "colab_type": "code",
        "colab": {}
      },
      "source": [
        "def update_u_GS(U, F, h):\n",
        "    \"\"\"\n",
        "    Input: Current iterate U^[k-1]\n",
        "    Output: Next iterate U^[k]\n",
        "    \"\"\"\n",
        "    m = len(U) - 1\n",
        "    for i in range(0,m):\n",
        "        U[i] = (U[i+1] + h*F[i])\n",
        "    return U\n",
        "\n",
        "def solve_bvp(f_fcn, utrue_fcn, m, update_u, maxiter, kplot):\n",
        "\n",
        "    alpha = utrue_fcn(0)\n",
        "\n",
        "    h = 1./(m+1)\n",
        "    x = linspace(0,1,m+2)\n",
        "\n",
        "    utrue = utrue_fcn(x)\n",
        "    F = f_fcn(x)\n",
        "    F[m+1] = alpha/h\n",
        "    #U0 = linspace(alpha, alpha, m+2)\n",
        "    U0 = zeros(m+2) # initial guess\n",
        "    U = U0.copy() # current iterate\n",
        "\n",
        "    max_error = abs(U-utrue).max()\n",
        "    errors = [max_error]\n",
        "\n",
        "    figs = []  # for the list of figures we generate\n",
        "    \n",
        "    for k in range(1,maxiter+1):\n",
        "                \n",
        "        U = update_u(U, F, h)  # take one iteration\n",
        "        \n",
        "        max_error = abs(flip(U)-utrue).max()\n",
        "        errors.append(max_error)\n",
        "\n",
        "        if mod(k,kplot)==0 or k==maxiter:\n",
        "            # every kplot iterations create a plot:\n",
        "            fig = figure(figsize=(12,5))\n",
        "            plot(x,U0,'r-o', label='initial guess')\n",
        "            plot(x,utrue,'k-o', label='true solution')\n",
        "            plot(x,flip(U),'bo-', label= 'iteration k = %i' % k)\n",
        "            legend()\n",
        "            grid(True)\n",
        "            xlim(0,1)\n",
        "            ylim(0, 3)\n",
        "            title('After %i iterations, max error = %.2e' \\\n",
        "                  % (k, max_error))\n",
        "            figs.append(fig)\n",
        "            close(fig)\n",
        "            \n",
        "    errors = array(errors)  # convert list to numpy array\n",
        "    return errors, figs"
      ],
      "execution_count": 0,
      "outputs": []
    },
    {
      "cell_type": "code",
      "metadata": {
        "id": "lib_PYSC889L",
        "colab_type": "code",
        "outputId": "28763e47-cf6a-474a-a780-ef809c11f7e4",
        "colab": {
          "base_uri": "https://localhost:8080/",
          "height": 368,
          "referenced_widgets": [
            "a48c8320763d4fd8b4ff3727710a2bd7",
            "1e28358c6a36401f814009d5bf1c3c2e",
            "3c64effbcd6b4760acd4034ef73fb0b4",
            "70e5891c8a634b779dd7d111edda1bea",
            "b8111f1aa6dd427ca07fd245ecade3fa",
            "494f3b7918aa43e0b1ba7a13bc3ad09a"
          ]
        }
      },
      "source": [
        "f_fcn = lambda x: 2+x*0\n",
        "utrue_fcn = lambda x: 2*x\n",
        "err, figs = solve_bvp(f_fcn,utrue_fcn, 21, update_u_GS,50, 1)\n",
        "animate_figs(figs)"
      ],
      "execution_count": 0,
      "outputs": [
        {
          "output_type": "display_data",
          "data": {
            "application/vnd.jupyter.widget-view+json": {
              "model_id": "a48c8320763d4fd8b4ff3727710a2bd7",
              "version_minor": 0,
              "version_major": 2
            },
            "text/plain": [
              "interactive(children=(IntSlider(value=0, description='frameno', max=49), Output()), _dom_classes=('widget-inte…"
            ]
          },
          "metadata": {
            "tags": []
          }
        }
      ]
    },
    {
      "cell_type": "markdown",
      "metadata": {
        "id": "2NTTLMQ9ojy3",
        "colab_type": "text"
      },
      "source": [
        "##e)\n",
        "The eigenvalues in both the forward and backward guass-seidel are 0, which seems to mean they should both converge in 1 iteration. But only the forward GS matrix is normal and therefore has a spectral radius of 0. The spectral radius from part c) is non-zero because the matrix is defective. We can still see the convergent behavior though by looking at the behavior of $G^{[k]}$ in this case. "
      ]
    },
    {
      "cell_type": "markdown",
      "metadata": {
        "id": "5AYbxQvKn2S7",
        "colab_type": "text"
      },
      "source": [
        "###Problem 4\n",
        "\n",
        "In this case $r_0=f-Au_o$ is an eigenvector of $A$, therefore:\n",
        "\n",
        "$Ar_0=\\lambda r_0$ for some constant $\\lambda$\n",
        "\n",
        "Going through the conjugate gradient algorithm:  \n",
        "$w_0=Ar_0=\\lambda r_0$  \n",
        "$\\alpha_0 = \\frac{r_0^Tr_0}{r_0^T\\lambda r_0}=\\frac{r_0^Tr_0}{\\lambda r_0^T r_0} = \\frac{1}{\\lambda}$  \n",
        "$u_1=u_0+\\frac{r_0}{\\lambda}$  \n",
        "$r_1=r_0-\\alpha_0w_0 = r_0-\\frac{r_0\\lambda}{\\lambda} = 0$\n",
        "\n",
        "Therefore the residual goes to zero in just one iteration, indicating the method has converged to the true solution.\n"
      ]
    },
    {
      "cell_type": "markdown",
      "metadata": {
        "id": "NyhTMrbbn5Gd",
        "colab_type": "text"
      },
      "source": [
        "###Problem 5\n",
        "##a)\n",
        "For the equation at $x_0$ use these two equations (from the ODE and robin boundary condition):  \n",
        "  \n",
        "$u(x_{-1})-2u(x_0)+u(x_1) = h^2f(x_0) $  \n",
        "$\\gamma_0u(x_0)+\\gamma_1\\frac{u(x_1)-u(x_{-1})}{2h}=\\sigma $  \n",
        "\n",
        "Solve for $u(x_{-1})$ and plug into the other equation, then move all of the u(x) terms to the lhs and other terms to the rhs:   \n",
        "  \n",
        "$\\gamma_0u(x_0)+\\gamma_1\\frac{u(x_1)-u(x_0)}{h} = \\sigma+\\gamma_1f(x_0)\\frac{h}{2} $  \n",
        "\n",
        "The rest of the equations are standard centered approximations of u'':\n",
        "\n",
        "$\\frac{u(x_{n-1}-2u(x_n)+u(x_{n+1})}{h^2}$\n",
        "\n",
        "The rhs is equal to $f(x_n)h^2$ everywhere except the first and last terms. In the first it is the rhs of the above equation ($\\sigma+\\gamma_1f(x_0)\\frac{h}{2} $) and the last term adds the other bounrdary condition: $h^2f(x_m)-\\beta$\n",
        "\n",
        "\n",
        "##b)\n",
        "The truncation error is second order and has the form with $C_jh^2+o(h^2)$ and: \n",
        "\n",
        " $C_0 = \\gamma_1/4$\n",
        " All other $C_j = 1/2$"
      ]
    },
    {
      "cell_type": "markdown",
      "metadata": {
        "id": "BbxSiHOa-BLb",
        "colab_type": "text"
      },
      "source": [
        "##Problem 6\n",
        "###a)\n",
        "The code is below:"
      ]
    },
    {
      "cell_type": "code",
      "metadata": {
        "id": "uy65VS4w9k6K",
        "colab_type": "code",
        "colab": {}
      },
      "source": [
        "def solve_bvp(f, ainfo, binfo, m):\n",
        "    \"\"\"\n",
        "    Solve the 2-point BVP with Dirichlet BCs\n",
        "    Input:\n",
        "        f is a function defining the right hand side,\n",
        "        ainfo = (gamma0, gamma1, alpha) defines the Robin boundary condition u(ax) = alpha,\n",
        "        binfo = (bx, beta) defines the Dirichlet boundary condition u(bx) = beta,\n",
        "        m is the number of (equally spaced) interior grid points to use.\n",
        "    \n",
        "    Returns:\n",
        "        x = array of grid points (including boundaries, so of length m+2)\n",
        "        u = array of approximate solution at these points.\n",
        "    \"\"\"\n",
        "    from scipy import sparse\n",
        "    from scipy.sparse.linalg import spsolve\n",
        "    \n",
        "    ax, gamma0, gamma1, alpha = ainfo\n",
        "    bx, beta = binfo\n",
        "    \n",
        "    h = (bx-ax)/float(m+1)    # h = delta x\n",
        "    x = linspace(ax,bx,m+2)   # note x[0]=ax, x[m+1]=bx\n",
        "    \n",
        "    # set up m by m matrix A:\n",
        "    # note that sparse.diags is analogous to the matlab spdiags function\n",
        "    em = ones(m+1)\n",
        "    A = sparse.diags([em, -2*em, em], [-1, 0, 1], \n",
        "                     shape=(m+1,m+1), format='csc')\n",
        "\n",
        "    A[0,0] = ((gamma0/gamma1)-(1/h)); A[0,1] = 1/h\n",
        "    \n",
        "   \n",
        "    # right hand side:\n",
        "    b = h**2 * f(x)\n",
        "    rhs = b[0:-1]   # interior points\n",
        "    rhs[0] = alpha/gamma1+f(0)*h/2\n",
        "    rhs[m] += -beta\n",
        "    \n",
        "    \n",
        "    # solve system for m interior points:\n",
        "    uint = spsolve(A, rhs)\n",
        "    \n",
        "    # augment with boundary values to form u of length m+2:\n",
        "    u = hstack([uint, beta])\n",
        "    \n",
        "    return x,u"
      ],
      "execution_count": 0,
      "outputs": []
    },
    {
      "cell_type": "code",
      "metadata": {
        "id": "Q7cLNCkjB6X7",
        "colab_type": "code",
        "colab": {}
      },
      "source": [
        "ainfo = [0.,2.,3.,1.]; binfo = [1.,2.]\n",
        "m = 20\n",
        "x = linspace(0,1,m+2)\n",
        "f = lambda x: (x*0)+4\n",
        "x, u = solve_bvp(f, ainfo, binfo, m)"
      ],
      "execution_count": 0,
      "outputs": []
    },
    {
      "cell_type": "code",
      "metadata": {
        "id": "JWZLdv0BDV0g",
        "colab_type": "code",
        "outputId": "25c6aba6-6c51-47a6-cf67-4e1edc92f85f",
        "colab": {
          "base_uri": "https://localhost:8080/",
          "height": 282
        }
      },
      "source": [
        "utrue = lambda x:2*x**2+x-1\n",
        "plot(x,u,'ro', label = 'Approximate Solution')\n",
        "plot(x,utrue(x),'b', label = 'Real Solution')\n",
        "legend()"
      ],
      "execution_count": 0,
      "outputs": [
        {
          "output_type": "execute_result",
          "data": {
            "text/plain": [
              "<matplotlib.legend.Legend at 0x7f73b28a7550>"
            ]
          },
          "metadata": {
            "tags": []
          },
          "execution_count": 225
        },
        {
          "output_type": "display_data",
          "data": {
            "image/png": "[encoded data removed]",
            "text/plain": [
              "<Figure size 432x288 with 1 Axes>"
            ]
          },
          "metadata": {
            "tags": []
          }
        }
      ]
    },
    {
      "cell_type": "code",
      "metadata": {
        "id": "9nyDN6t6H3nx",
        "colab_type": "code",
        "outputId": "7ca4ffe7-5206-417a-c5de-1c90dc1bc693",
        "colab": {
          "base_uri": "https://localhost:8080/",
          "height": 34
        }
      },
      "source": [
        "print(max(u-utrue(x)))"
      ],
      "execution_count": 0,
      "outputs": [
        {
          "output_type": "stream",
          "text": [
            "4.440892098500626e-16\n"
          ],
          "name": "stdout"
        }
      ]
    },
    {
      "cell_type": "markdown",
      "metadata": {
        "id": "YqDND6qYZkAR",
        "colab_type": "text"
      },
      "source": [
        "This solution is machine accurate (local truncation error is zero) at the grid points because the true solution u(x) is a second degree polynomial, and therefore it's taylor series are all zero at higher terms which aren't accounted for in this discretization."
      ]
    },
    {
      "cell_type": "code",
      "metadata": {
        "id": "o6Qga13_a3yO",
        "colab_type": "code",
        "colab": {}
      },
      "source": [
        "ainfo = [0.,2.,3.,1.]; binfo = [1.,-1.]\n",
        "m = 40\n",
        "x = linspace(0,1,m+2)\n",
        "f = lambda x: -18*x+4\n",
        "x, u = solve_bvp(f, ainfo, binfo, m)\n",
        "utrue2 = lambda x: -3*x**3+2*x**2+x-1"
      ],
      "execution_count": 0,
      "outputs": []
    },
    {
      "cell_type": "code",
      "metadata": {
        "id": "VWJAp2MQbC3X",
        "colab_type": "code",
        "outputId": "270ed256-9c7c-49ac-da42-c109341e2106",
        "colab": {
          "base_uri": "https://localhost:8080/",
          "height": 284
        }
      },
      "source": [
        "plot(x,u,'ro', label = 'Approximate Solution')\n",
        "plot(x,utrue2(x),'b', label = 'Real Solution')\n",
        "legend()"
      ],
      "execution_count": 0,
      "outputs": [
        {
          "output_type": "execute_result",
          "data": {
            "text/plain": [
              "<matplotlib.legend.Legend at 0x7f73b55f3ac8>"
            ]
          },
          "metadata": {
            "tags": []
          },
          "execution_count": 210
        },
        {
          "output_type": "display_data",
          "data": {
            "image/png": "[encoded data removed]",
            "text/plain": [
              "<Figure size 432x288 with 1 Axes>"
            ]
          },
          "metadata": {
            "tags": []
          }
        }
      ]
    },
    {
      "cell_type": "code",
      "metadata": {
        "id": "9dRl3fibbmCE",
        "colab_type": "code",
        "outputId": "2e9461f7-ec69-4cc3-c7b6-f305d2341b03",
        "colab": {
          "base_uri": "https://localhost:8080/",
          "height": 286
        }
      },
      "source": [
        "ms = [50,100,200,400,800]\n",
        "error = []\n",
        "for m in ms:\n",
        "  x, u = solve_bvp(f, ainfo, binfo, m)\n",
        "  ureal = utrue2(x)\n",
        "  error.append(max(abs(u-ureal)))\n",
        "\n",
        "\n",
        "l2 = [a**-2 for a in ms]\n",
        "\n",
        "loglog(ms,error,label = 'error')\n",
        "loglog(ms,l2, label = 'slope 2')\n",
        "legend()"
      ],
      "execution_count": 0,
      "outputs": [
        {
          "output_type": "execute_result",
          "data": {
            "text/plain": [
              "<matplotlib.legend.Legend at 0x7f73b57b8b38>"
            ]
          },
          "metadata": {
            "tags": []
          },
          "execution_count": 206
        },
        {
          "output_type": "display_data",
          "data": {
            "image/png": "[encoded data removed]",
            "text/plain": [
              "<Figure size 432x288 with 1 Axes>"
            ]
          },
          "metadata": {
            "tags": []
          }
        }
      ]
    },
    {
      "cell_type": "markdown",
      "metadata": {
        "id": "xFndAt44dy3j",
        "colab_type": "text"
      },
      "source": [
        "The error is indeed second order accurate as can be seen above. The error is paralell to a slope with line 2. In this case the truncation error appears because the real solution is a polynomial greater than power 2. "
      ]
    }
  ]
}